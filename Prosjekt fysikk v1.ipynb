{
 "cells": [
  {
   "cell_type": "markdown",
   "metadata": {},
   "source": [
    "# Fysikkprosjekt i programmering og modellering"
   ]
  },
  {
   "cell_type": "code",
   "execution_count": 14,
   "metadata": {},
   "outputs": [],
   "source": [
    "import pandas as pd\n",
    "import re\n",
    "import webbrowser as web"
   ]
  },
  {
   "cell_type": "code",
   "execution_count": 2,
   "metadata": {},
   "outputs": [],
   "source": [
    "#konstanter\n",
    "nøytroner = 1.0087"
   ]
  },
  {
   "cell_type": "markdown",
   "metadata": {},
   "source": [
    "#### ** $ e = mc^2 $ **\n",
    "#### Her definerer vi formelen $ e = mc^2 $ . Massen vi tar inn er i u så vi må det gjøre det om til kg for at vi skal få enheten J. Dette blir et veldig lite tall, så vi deler det på $ 10E-12 $ for å få svaret i pJ. Dette er den mest brukte enheten i utregnig av energi, med masseomgjøringsloven.\n"
   ]
  },
  {
   "cell_type": "code",
   "execution_count": 3,
   "metadata": {},
   "outputs": [],
   "source": [
    "def energi(m):\n",
    "    c = 299792458\n",
    "    return m*(c**2) *(1.66053904*10E-27)/(10E-12)"
   ]
  },
  {
   "cell_type": "code",
   "execution_count": 4,
   "metadata": {},
   "outputs": [],
   "source": [
    "#lister\n",
    "i = []\n",
    "atomnr =[]\n",
    "massenr =[]\n",
    "masse = []"
   ]
  },
  {
   "cell_type": "markdown",
   "metadata": {},
   "source": [
    "## Leser datene fra filen. \n",
    "#### Skriver en ny bearbeidet fil"
   ]
  },
  {
   "cell_type": "code",
   "execution_count": 5,
   "metadata": {},
   "outputs": [],
   "source": [
    "#Første fil som vi leser\n",
    "fil = open(\"atomer.txt\",\"r\")\n",
    "linjer = fil.readlines()\n",
    "fil.close()\n",
    "\n",
    "#Fil som vi skriver, men tar bort de irrelevante linjene\n",
    "fil = open(\"atomer2.txt\",\"w\")\n",
    "\n",
    "for linje in linjer:\n",
    "    if \"Isotopic\" in linje:\n",
    "        linje = linje.replace('.','')\n",
    "    elif \"Notes\" in linje:\n",
    "        linje = linje.replace('.','')\n",
    "    elif \"Symbol\" in linje:\n",
    "        linje = linje.replace('.','')\n",
    "    elif \"Standard\" in linje:\n",
    "        linje = linje.replace('.','')\n",
    "    else:\n",
    "        fil.write(linje)    \n",
    "\n",
    "fil.close()"
   ]
  },
  {
   "cell_type": "code",
   "execution_count": 6,
   "metadata": {},
   "outputs": [],
   "source": [
    "#Åpner filen igjen sånn at vi kan lese av den\n",
    "fil2 = open(\"atomer2.txt\",\"r\")\n",
    "\n",
    "#Filen går inn i en string\n",
    "nukleider = fil2.read()\n",
    "\n",
    "#Finner alle integerne, heltallene, i stringen og lager en liste med de \n",
    "for s in nukleider.split():\n",
    "    if s.isdigit():\n",
    "        i.append(s)\n",
    "\n",
    "#Finner de ulike atomnummerene og setter de i en liste\n",
    "for n in range(0,len(i),2):\n",
    "    atomnr.append(i[n])\n",
    "\n",
    "#Finner de ulike massenummerene og putter de i en liste\n",
    "for x in range(1,len(i),2):\n",
    "    massenr.append(i[x])\n",
    "\n",
    "#Finner flyt tallene i stringen\n",
    "flyt = re.findall(\"\\d+\\.\\d+\", nukleider)\n",
    "\n",
    "#Legger flyt tallene inn i en liste\n",
    "for f in flyt:\n",
    "    masse.append(f)"
   ]
  },
  {
   "cell_type": "markdown",
   "metadata": {},
   "source": [
    "## Lager Dataframe som gjør det lettere å bruke dataene\n",
    "#### Bruker det datasettet som ble bearbeidet ovenfor"
   ]
  },
  {
   "cell_type": "code",
   "execution_count": 7,
   "metadata": {},
   "outputs": [
    {
     "name": "stdout",
     "output_type": "stream",
     "text": [
      "     AtomNr MasseNr        Masse\n",
      "1904     66     153   152.925765\n",
      "2329     78     182   181.961171\n",
      "956      40     105    104.93305\n",
      "3033    104     260    260.10644\n",
      "957      40     106    105.93591\n",
      "3042    105     255    255.10740\n",
      "2420     80     204  203.9734939\n",
      "557      28      53     52.96847\n",
      "2751     90     227  227.0277041\n",
      "1425     53     140    139.93100\n",
      "1246     49     103   102.919914\n",
      "351      20      43   42.9587666\n",
      "1648     59     143  142.9108169\n",
      "310      18      46    45.968090\n",
      "645      31      59     58.96337\n",
      "995      42      83     82.94874\n",
      "2229     75     182    181.95121\n",
      "2066     71     151    150.96758\n",
      "1245     49     102    101.92409\n",
      "2712     89     216   216.008720\n"
     ]
    }
   ],
   "source": [
    "df = pd.DataFrame()\n",
    "\n",
    "sa = pd.Series(atomnr)\n",
    "sb = pd.Series(massenr)\n",
    "sc = pd.Series(masse)\n",
    "\n",
    "df['AtomNr'] = sa.values\n",
    "df['MasseNr']= sb.values\n",
    "df = df.drop(df.index[3179])\n",
    "df = df.drop(df.index[3175])\n",
    "df['Masse']= sc.values\n",
    "\n",
    "print(df.sample(20))"
   ]
  },
  {
   "cell_type": "markdown",
   "metadata": {},
   "source": [
    "## Brukerinput\n",
    "#### * PS: Du må vite atomnummeret og nukleontallet før du starter. Får du feilmelding er det mest sannsynlig at kombinasjonen av atomnummer og nukleontall er feil. *"
   ]
  },
  {
   "cell_type": "code",
   "execution_count": 26,
   "metadata": {},
   "outputs": [],
   "source": [
    "mV=0\n",
    "mH=0\n",
    "m=0\n",
    "\n",
    "def reaktanter(nøytroner, mV):\n",
    "    \n",
    "    while True:\n",
    "        r = int(input(\"Har du flere reaktanter? \\n Ja = 1 Nei = 2 \\n\"))\n",
    "        if r == 1:\n",
    "            atomV = input(\"Hva er atom nummeret\")\n",
    "            if int(atomV)>= 26:\n",
    "                masseV = input(\"Hva er masse nummeret\")\n",
    "                dfV = df[(df['AtomNr'].isin([atomV]) & df['MasseNr'].isin([masseV]))]\n",
    "                mV += float(dfV.iat[0,2])\n",
    "            else:\n",
    "                return False\n",
    "        else:\n",
    "            an = int(input(\"Hvor mange nøytroner er det tilsammen?\"))\n",
    "            mV += an*nøytroner\n",
    "            print(mV)\n",
    "            return mV\n",
    "\n",
    "def produkter(nøytroner, mH):\n",
    "    while True:\n",
    "        rp = int(input(\"Har du flere produkter? \\n Ja = 1 Nei = 2 \\n\"))\n",
    "        if rp == 1:\n",
    "            atomH = input(\"Hva er atom nummeret?\")\n",
    "            masseH = input(\"Hva er masse nummeret?\")\n",
    "            dfH = df[(df['AtomNr'].isin([atomH]) & df['MasseNr'].isin([masseH]))]\n",
    "            mH += float(dfH.iat[0,2])\n",
    "        else:\n",
    "            print(mH)\n",
    "            return mH\n",
    "\n",
    "def kjør(reaktanter,produkter):\n",
    "    m = reaktanter(nøytroner,mV) - produkter(nøytroner, mV)\n",
    "    if m > 0:\n",
    "        print(m)\n",
    "        print(\"  \\n \\n Energien som blir sendt ut av denne fisjonen tilsvarer\", energi(m), \"pJ\")\n",
    "    else:\n",
    "        print(\"Du har gjort noe feil!\")\n",
    "        web.open(\"https://www.youtube.com/watch?v=0T5zp-1Aw40&index=15&list=PLTAntaqsgEprmXRJO_ufCRANeeLIZgr6R\")     "
   ]
  },
  {
   "cell_type": "markdown",
   "metadata": {},
   "source": [
    "## Denne cellen kjører programmet"
   ]
  },
  {
   "cell_type": "code",
   "execution_count": 27,
   "metadata": {},
   "outputs": [
    {
     "name": "stdout",
     "output_type": "stream",
     "text": [
      "Har du flere reaktanter? \n",
      " Ja = 1 Nei = 2 \n",
      "1\n",
      "Hva er atom nummeret1\n",
      "Har du flere produkter? \n",
      " Ja = 1 Nei = 2 \n",
      "2\n",
      "0\n",
      "Du har gjort noe feil!\n"
     ]
    }
   ],
   "source": [
    "kjør(reaktanter,produkter)"
   ]
  },
  {
   "cell_type": "code",
   "execution_count": null,
   "metadata": {},
   "outputs": [],
   "source": []
  }
 ],
 "metadata": {
  "kernelspec": {
   "display_name": "Python 3",
   "language": "python",
   "name": "python3"
  },
  "language_info": {
   "codemirror_mode": {
    "name": "ipython",
    "version": 3
   },
   "file_extension": ".py",
   "mimetype": "text/x-python",
   "name": "python",
   "nbconvert_exporter": "python",
   "pygments_lexer": "ipython3",
   "version": "3.6.5"
  }
 },
 "nbformat": 4,
 "nbformat_minor": 2
}
