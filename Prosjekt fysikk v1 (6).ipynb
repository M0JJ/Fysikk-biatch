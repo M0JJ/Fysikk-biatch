{
 "cells": [
  {
   "cell_type": "markdown",
   "metadata": {},
   "source": [
    "# Fysikkprosjekt i programmering og modellering"
   ]
  },
  {
   "cell_type": "code",
   "execution_count": 1,
   "metadata": {},
   "outputs": [],
   "source": [
    "import pandas as pd\n",
    "import re\n",
    "import webbrowser as web\n",
    "import seaborn as sns\n",
    "import pylab as pl"
   ]
  },
  {
   "cell_type": "code",
   "execution_count": 2,
   "metadata": {},
   "outputs": [],
   "source": [
    "#konstanter\n",
    "nøytroner = 1.0087"
   ]
  },
  {
   "cell_type": "markdown",
   "metadata": {},
   "source": [
    "# ** $ E = mc^2 $ **\n",
    "#### Her definerer vi formelen $ E = mc^2 $ . Massen vi tar inn er i u så vi må det gjøre det om til kg for at vi skal få enheten J. Dette blir et veldig lite tall, så vi deler det på $ 10E-12 $ for å få svaret i pJ. Dette er den mest brukte enheten i utregnig av energi, med masseomgjøringsloven.\n"
   ]
  },
  {
   "cell_type": "code",
   "execution_count": 3,
   "metadata": {},
   "outputs": [],
   "source": [
    "def energi(m):\n",
    "    c = 299792458\n",
    "    return m*(c**2) *(1.66053904*10E-27)/(10E-12)"
   ]
  },
  {
   "cell_type": "code",
   "execution_count": 4,
   "metadata": {},
   "outputs": [],
   "source": [
    "#lister\n",
    "i = []\n",
    "atomnr =[]\n",
    "massenr =[]\n",
    "masse = []"
   ]
  },
  {
   "cell_type": "markdown",
   "metadata": {},
   "source": [
    "## Leser datene fra filen. \n",
    "#### Skriver en ny bearbeidet fil"
   ]
  },
  {
   "cell_type": "code",
   "execution_count": 5,
   "metadata": {},
   "outputs": [],
   "source": [
    "#Første fil som vi leser\n",
    "fil = open(\"atomer.txt\",\"r\")\n",
    "linjer = fil.readlines()\n",
    "fil.close()\n",
    "\n",
    "#Fil som vi skriver, men tar bort de irrelevante linjene\n",
    "fil = open(\"atomer2.txt\",\"w\")\n",
    "\n",
    "for linje in linjer:\n",
    "    if \"Isotopic\" in linje:\n",
    "        linje = linje.replace('God Jul:)','')\n",
    "    elif \"Notes\" in linje:\n",
    "        linje = linje.replace('God Jul:)','')\n",
    "    elif \"Symbol\" in linje:\n",
    "        linje = linje.replace('God Jul:)','')\n",
    "    elif \"Standard\" in linje:\n",
    "        linje = linje.replace('God Jul:)','')\n",
    "    else:\n",
    "        fil.write(linje)    \n",
    "\n",
    "fil.close()"
   ]
  },
  {
   "cell_type": "code",
   "execution_count": 6,
   "metadata": {},
   "outputs": [],
   "source": [
    "#Åpner filen igjen sånn at vi kan lese av den\n",
    "fil2 = open(\"atomer2.txt\",\"r\")\n",
    "\n",
    "#Filen går inn i en string\n",
    "nukleider = fil2.read()\n",
    "\n",
    "#Finner alle integerne, heltallene, i stringen og lager en liste med de \n",
    "for s in nukleider.split():\n",
    "    if s.isdigit():\n",
    "        i.append(s)\n",
    "\n",
    "#Finner de ulike atomnummerene og setter de i en liste\n",
    "for n in range(0,len(i),2):\n",
    "    atomnr.append(i[n])\n",
    "\n",
    "#Finner de ulike massenummerene og putter de i en liste\n",
    "for x in range(1,len(i),2):\n",
    "    massenr.append(i[x])\n",
    "\n",
    "#Finner flyt tallene i stringen\n",
    "flyt = re.findall(\"\\d+\\.\\d+\", nukleider)\n",
    "\n",
    "#Legger flyt tallene inn i en liste\n",
    "for f in flyt:\n",
    "    masse.append(f)"
   ]
  },
  {
   "cell_type": "markdown",
   "metadata": {},
   "source": [
    "## Lager Dataframe som gjør det lettere å bruke dataene\n",
    "#### Bruker det datasettet som ble bearbeidet ovenfor"
   ]
  },
  {
   "cell_type": "code",
   "execution_count": 7,
   "metadata": {},
   "outputs": [
    {
     "name": "stdout",
     "output_type": "stream",
     "text": [
      "     AtomNr MasseNr          Masse\n",
      "1078     44     103    102.9063238\n",
      "1011     42      99     98.9077119\n",
      "530      27      54     53.9484596\n",
      "2983    101     253      253.08728\n",
      "1969     68     151     150.937449\n",
      "913      39      93      92.909583\n",
      "1610     58     142     141.909244\n",
      "1916     66     165    164.9317033\n",
      "1614     58     146     145.918760\n",
      "482      25      57     56.9382854\n",
      "2571     85     194      193.99873\n",
      "2027     69     176      175.94699\n",
      "438      23      61       60.96848\n",
      "157      12      20      20.018863\n",
      "2903     97     241      241.06023\n",
      "2378     79     197    196.9665687\n",
      "2975    101     245      245.08083\n",
      "0         1       1  1.00782503207\n",
      "3162    114     286      286.18386\n",
      "268      16      48       48.01417\n",
      "       AtomNr MasseNr        Masse\n",
      "count    3178    3178         3178\n",
      "unique    118     293         3178\n",
      "top        80     150  232.0371562\n",
      "freq       40      17            1\n"
     ]
    }
   ],
   "source": [
    "df = pd.DataFrame()\n",
    "\n",
    "sa = pd.Series(atomnr)\n",
    "sb = pd.Series(massenr)\n",
    "sc = pd.Series(masse)\n",
    "\n",
    "df['AtomNr'] = sa.values\n",
    "df['MasseNr']= sb.values\n",
    "df = df.drop(df.index[3179])\n",
    "df = df.drop(df.index[3175])\n",
    "df['Masse']= sc.values\n",
    "\n",
    "print(df.sample(20))\n",
    "print(df.describe())"
   ]
  },
  {
   "cell_type": "markdown",
   "metadata": {},
   "source": [
    "## Brukerinput\n",
    "#### * PS: Du må vite atomnummeret og nukleontallet før du starter. Får du feilmelding er det mest sannsynlig at kombinasjonen av atomnummer og nukleontall er feil. *"
   ]
  },
  {
   "cell_type": "code",
   "execution_count": 8,
   "metadata": {},
   "outputs": [],
   "source": [
    "mV=0\n",
    "mH=0\n",
    "m=0\n",
    "\n",
    "def reaktanter(nøytroner, mV):  \n",
    "    while True:\n",
    "        r = int(input(\"Har du flere reaktanter? \\n Ja = 1 Nei = 2 \\n\"))\n",
    "        if r == 1:\n",
    "            atomV = input(\"Hva er atom nummeret\")\n",
    "            if int(atomV)>= 26:\n",
    "                masseV = input(\"Hva er masse nummeret\")\n",
    "                dfV = df[(df['AtomNr'].isin([atomV]) & df['MasseNr'].isin([masseV]))]\n",
    "                mV += float(dfV.iat[0,2])\n",
    "            else:\n",
    "                return False\n",
    "        else:\n",
    "            an = int(input(\"Hvor mange nøytroner er det tilsammen?\"))\n",
    "            mV += an*nøytroner\n",
    "            print(\"Massen på venstre side er\",mV)\n",
    "            return mV\n",
    "\n",
    "def produkter(nøytroner, mH):\n",
    "    while True:\n",
    "        rp = int(input(\"Har du flere produkter? \\n Ja = 1 Nei = 2 \\n\"))\n",
    "        if rp == 1:\n",
    "            atomH = input(\"Hva er atom nummeret?\")\n",
    "            masseH = input(\"Hva er masse nummeret?\")\n",
    "            dfH = df[(df['AtomNr'].isin([atomH]) & df['MasseNr'].isin([masseH]))]\n",
    "            mH += float(dfH.iat[0,2])\n",
    "        else:\n",
    "            an = int(input(\"Hvor mange nøytroner er det tilsammen?\"))\n",
    "            mH += an*nøytroner\n",
    "            print(\"Massen på høyre side er\",mH)\n",
    "            return mH\n",
    "\n",
    "def kjør(reaktanter,produkter):\n",
    "    m = reaktanter(nøytroner,mV) - produkter(nøytroner, mH)\n",
    "    if m > 0:\n",
    "        print('\\n', m)\n",
    "        print(\"  \\n \\n Energien som blir sendt ut av denne fisjonen tilsvarer\", energi(m), \"pJ\")\n",
    "    else:\n",
    "        print(\"Du har gjort noe feil!\")\n",
    "        web.open(\"https://www.youtube.com/watch?v=8jnYX2X1TKk&list=PLTAntaqsgEprmXRJO_ufCRANeeLIZgr6R&index=17\")     "
   ]
  },
  {
   "cell_type": "markdown",
   "metadata": {},
   "source": [
    "## Denne cellen kjører programmet"
   ]
  },
  {
   "cell_type": "code",
   "execution_count": 9,
   "metadata": {},
   "outputs": [
    {
     "name": "stdout",
     "output_type": "stream",
     "text": [
      "Har du flere reaktanter? \n",
      " Ja = 1 Nei = 2 \n",
      "2\n",
      "Hvor mange nøytroner er det tilsammen?0\n",
      "Massen på venstre side er 0.0\n",
      "Har du flere produkter? \n",
      " Ja = 1 Nei = 2 \n",
      "1\n",
      "Hva er atom nummeret?1\n",
      "Hva er masse nummeret?7\n",
      "Har du flere produkter? \n",
      " Ja = 1 Nei = 2 \n",
      "2\n",
      "Hvor mange nøytroner er det tilsammen?3\n",
      "Massen på høyre side er 10.07885\n",
      "Du har gjort noe feil!\n"
     ]
    }
   ],
   "source": [
    "kjør(reaktanter,produkter)"
   ]
  }
 ],
 "metadata": {
  "kernelspec": {
   "display_name": "Python 3",
   "language": "python",
   "name": "python3"
  },
  "language_info": {
   "codemirror_mode": {
    "name": "ipython",
    "version": 3
   },
   "file_extension": ".py",
   "mimetype": "text/x-python",
   "name": "python",
   "nbconvert_exporter": "python",
   "pygments_lexer": "ipython3",
   "version": "3.6.5"
  }
 },
 "nbformat": 4,
 "nbformat_minor": 2
}
